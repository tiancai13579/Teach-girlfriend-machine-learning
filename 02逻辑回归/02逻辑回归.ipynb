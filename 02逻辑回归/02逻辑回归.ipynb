{
 "cells": [
  {
   "cell_type": "markdown",
   "metadata": {},
   "source": [
    "# 教女友学习机器学习0X02——逻辑回归"
   ]
  },
  {
   "cell_type": "markdown",
   "metadata": {},
   "source": [
    "## 拟合与分类\n",
    "现在，我们需要知道一个概念——机器学习有两个重要功能：拟合和分类。我们的前两章都是在做拟合，无论是用直线、曲线、平面、曲面……但是，分类，我们好像还没接触过，其实机器学习在分类中的应用非常广泛，比如：给电脑一堆照片，让它分辨哪些是人，哪些是猫，哪些是狗；你收到了一封邮件，系统已经帮你分辨出了哪些是垃圾邮件，哪些是诈骗邮件；违章拍照系统自动识别车牌上的字母和数字，这个是A，这个是1……  \n",
    "这次学习，我们还将继续使用使用Andrew Ng在Coursera上的[机器学习](https://www.coursera.org/learn/machine-learning/)的数据以及图片。  \n",
    "PS:我在网上找到了[小小人\\_V ](http://weibo.com/zjlibrary)整理的视频[笔记](http://vdisk.weibo.com/s/J4rRX/1373287206)，把思路理得非常顺畅，大家可以看看他写的笔记。"
   ]
  },
  {
   "cell_type": "markdown",
   "metadata": {},
   "source": [
    "## 试试用线性回归来解决分类问题\n",
    "假设我们从医院中拿到了一组数据，是肿瘤大小与是否为癌症的关系：  \n",
    "![肿瘤大小](肿瘤大小.png)  \n",
    "好像我们用一条直线也可以解决问题啊：  \n",
    "![肿瘤大小2](肿瘤大小2.png)  \n",
    "你看，训练（优化）的结果一条粉红色的直线，让其输出在小于0.5的点判断为没有癌症，大于0.5的点判断为有癌症，多么方便，简单啊！  \n",
    "但是事实真的如此吗？这时候来了一个新的样本：  \n",
    "![肿瘤大小3](肿瘤大小3.png)  \n",
    "这时候训练的结果是蓝线，哎呀我去，按照0.5来分辨，好像会搞出事情啊！！有几个点会判断出错唉！"
   ]
  }
 ],
 "metadata": {
  "anaconda-cloud": {},
  "kernelspec": {
   "display_name": "Python [conda root]",
   "language": "python",
   "name": "conda-root-py"
  },
  "language_info": {
   "codemirror_mode": {
    "name": "ipython",
    "version": 3
   },
   "file_extension": ".py",
   "mimetype": "text/x-python",
   "name": "python",
   "nbconvert_exporter": "python",
   "pygments_lexer": "ipython3",
   "version": "3.5.2"
  }
 },
 "nbformat": 4,
 "nbformat_minor": 1
}
